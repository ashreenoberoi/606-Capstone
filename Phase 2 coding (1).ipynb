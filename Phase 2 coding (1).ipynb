{
 "cells": [
  {
   "cell_type": "markdown",
   "metadata": {},
   "source": [
    "# Importing Libraries\n"
   ]
  },
  {
   "cell_type": "code",
   "execution_count": 1,
   "metadata": {},
   "outputs": [],
   "source": [
    "import numpy as np\n",
    "import pandas as pd\n",
    "import datetime\n",
    "import csv\n",
    "import os\n",
    "import nltk\n",
    "import seaborn as sns\n",
    "import matplotlib.pyplot as plt\n",
    "import time\n",
    "from collections import Counter\n",
    "from sklearn.feature_extraction.text import TfidfVectorizer\n",
    "from sklearn.svm import LinearSVC\n",
    "from sklearn.model_selection import train_test_split\n",
    "from sklearn.metrics import classification_report\n",
    "from sklearn.metrics import confusion_matrix\n",
    "from nltk.corpus import stopwords\n",
    "from sklearn.feature_extraction.text import TfidfVectorizer\n",
    "from sklearn.decomposition import LatentDirichletAllocation"
   ]
  },
  {
   "cell_type": "markdown",
   "metadata": {},
   "source": [
    "# Loading Datasets\n",
    "\n",
    "#### Some Important terms in the dataset\n",
    "##### <b> Items CSV </b>:\n",
    "###### <b> ASIN </b>: stands for Amazon Standard Identification Number. It's a unique identifier of 10 letters and/or numbers for a product that's assigned by Amazon.com. It's primarily used for product-identification within their product catalog of billions of items.\n",
    "###### <b> Brand </b>: What is the brand name or the manufacturing company of the product\n",
    "###### <b> Title </b>: The name given to the product by the Brand \n",
    "###### <b> URL </b> : The URL of the product on the amazon site\n",
    "###### <b> Image </b>: Image of the product\n",
    "###### <b> Ratings </b>: The average rating of the product \n",
    "###### <b> Ratings URL </b>: The URL where the rating are given\n",
    "###### <b> Total Reviews </b>: How many reviews does the product have\n",
    "###### <b> Prices </b>: Price of the produuct\n",
    "\n",
    "##### <b> Reviews CSV </b>:\n",
    "###### <b> ASIN </b>: It is the same as the Items CSV\n",
    "###### <b> Name </b>: It is the same as the Items CSV\n",
    "###### <b> Rating </b> : Particular rating for that product \n",
    "###### <b> Date </b>: Date of the ratings\n",
    "###### <b> Verified </b> : An \"Amazon Verified Purchase\" review means we've verified that the person writing the review purchased the product at Amazon and didn't receive the product at a deep discount\n",
    "###### <b> Title </b> : It is the same as the Items CSV\n",
    "###### <b> Body </b> : Any comments added by the user\n",
    "###### <b> Helpful Votes </b>: Amazon allows buyers to vote up a review on a product to show how helpful they think that particular review is. Vote up Amazon reviews is to click on the \"Helpful\" button below a review which moves up its ranking position among all reviews"
   ]
  },
  {
   "cell_type": "markdown",
   "metadata": {},
   "source": [
    "### Loading datasets"
   ]
  },
  {
   "cell_type": "code",
   "execution_count": 2,
   "metadata": {},
   "outputs": [],
   "source": [
    "items_data=pd.read_csv('20190928-items.csv')\n",
    "reviews_df=pd.read_csv('20190928-reviews.csv')"
   ]
  },
  {
   "cell_type": "markdown",
   "metadata": {},
   "source": [
    "# Exploratory Data Analysis\n",
    "#### Looking at the dataset"
   ]
  },
  {
   "cell_type": "code",
   "execution_count": 3,
   "metadata": {
    "collapsed": true,
    "jupyter": {
     "outputs_hidden": true
    }
   },
   "outputs": [
    {
     "data": {
      "text/html": [
       "<div>\n",
       "<style scoped>\n",
       "    .dataframe tbody tr th:only-of-type {\n",
       "        vertical-align: middle;\n",
       "    }\n",
       "\n",
       "    .dataframe tbody tr th {\n",
       "        vertical-align: top;\n",
       "    }\n",
       "\n",
       "    .dataframe thead th {\n",
       "        text-align: right;\n",
       "    }\n",
       "</style>\n",
       "<table border=\"1\" class=\"dataframe\">\n",
       "  <thead>\n",
       "    <tr style=\"text-align: right;\">\n",
       "      <th></th>\n",
       "      <th>asin</th>\n",
       "      <th>brand</th>\n",
       "      <th>title</th>\n",
       "      <th>url</th>\n",
       "      <th>image</th>\n",
       "      <th>rating</th>\n",
       "      <th>reviewUrl</th>\n",
       "      <th>totalReviews</th>\n",
       "      <th>prices</th>\n",
       "    </tr>\n",
       "  </thead>\n",
       "  <tbody>\n",
       "    <tr>\n",
       "      <th>0</th>\n",
       "      <td>B0000SX2UC</td>\n",
       "      <td>Nokia</td>\n",
       "      <td>Dual-Band / Tri-Mode Sprint PCS Phone w/ Voice...</td>\n",
       "      <td>https://www.amazon.com/Dual-Band-Tri-Mode-Acti...</td>\n",
       "      <td>https://m.media-amazon.com/images/I/2143EBQ210...</td>\n",
       "      <td>3.0</td>\n",
       "      <td>https://www.amazon.com/product-reviews/B0000SX2UC</td>\n",
       "      <td>14</td>\n",
       "      <td>NaN</td>\n",
       "    </tr>\n",
       "    <tr>\n",
       "      <th>1</th>\n",
       "      <td>B0009N5L7K</td>\n",
       "      <td>Motorola</td>\n",
       "      <td>Motorola I265 phone</td>\n",
       "      <td>https://www.amazon.com/Motorola-i265-I265-phon...</td>\n",
       "      <td>https://m.media-amazon.com/images/I/419WBAVDAR...</td>\n",
       "      <td>2.9</td>\n",
       "      <td>https://www.amazon.com/product-reviews/B0009N5L7K</td>\n",
       "      <td>7</td>\n",
       "      <td>$49.95</td>\n",
       "    </tr>\n",
       "    <tr>\n",
       "      <th>2</th>\n",
       "      <td>B000SKTZ0S</td>\n",
       "      <td>Motorola</td>\n",
       "      <td>MOTOROLA C168i AT&amp;T CINGULAR PREPAID GOPHONE C...</td>\n",
       "      <td>https://www.amazon.com/MOTOROLA-C168i-CINGULAR...</td>\n",
       "      <td>https://m.media-amazon.com/images/I/71b+q3ydkI...</td>\n",
       "      <td>2.6</td>\n",
       "      <td>https://www.amazon.com/product-reviews/B000SKTZ0S</td>\n",
       "      <td>22</td>\n",
       "      <td>NaN</td>\n",
       "    </tr>\n",
       "    <tr>\n",
       "      <th>3</th>\n",
       "      <td>B00198M12M</td>\n",
       "      <td>Nokia</td>\n",
       "      <td>Nokia 6500 Slide Black/silver Unlocked Cell Phone</td>\n",
       "      <td>https://www.amazon.com/Nokia-6500-Slide-silver...</td>\n",
       "      <td>https://m.media-amazon.com/images/I/41ss4HpLkL...</td>\n",
       "      <td>2.4</td>\n",
       "      <td>https://www.amazon.com/product-reviews/B00198M12M</td>\n",
       "      <td>5</td>\n",
       "      <td>NaN</td>\n",
       "    </tr>\n",
       "    <tr>\n",
       "      <th>4</th>\n",
       "      <td>B001AO4OUC</td>\n",
       "      <td>Motorola</td>\n",
       "      <td>Motorola i335 Cell Phone Boost Mobile</td>\n",
       "      <td>https://www.amazon.com/Motorola-i335-Phone-Boo...</td>\n",
       "      <td>https://m.media-amazon.com/images/I/710UO8gdT+...</td>\n",
       "      <td>3.3</td>\n",
       "      <td>https://www.amazon.com/product-reviews/B001AO4OUC</td>\n",
       "      <td>21</td>\n",
       "      <td>NaN</td>\n",
       "    </tr>\n",
       "    <tr>\n",
       "      <th>5</th>\n",
       "      <td>B001DCJAJG</td>\n",
       "      <td>Motorola</td>\n",
       "      <td>Motorola V365 no contract cellular phone AT&amp;T</td>\n",
       "      <td>https://www.amazon.com/Motorola-V365-contract-...</td>\n",
       "      <td>https://m.media-amazon.com/images/I/61LYNCVrrK...</td>\n",
       "      <td>3.2</td>\n",
       "      <td>https://www.amazon.com/product-reviews/B001DCJAJG</td>\n",
       "      <td>12</td>\n",
       "      <td>NaN</td>\n",
       "    </tr>\n",
       "    <tr>\n",
       "      <th>6</th>\n",
       "      <td>B001DZY4KI</td>\n",
       "      <td>Sony</td>\n",
       "      <td>Sony Ericsson G700 Triband GSM Phone Bronze (U...</td>\n",
       "      <td>https://www.amazon.com/Sony-Ericsson-Triband-B...</td>\n",
       "      <td>https://m.media-amazon.com/images/I/51mL10Inzc...</td>\n",
       "      <td>2.0</td>\n",
       "      <td>https://www.amazon.com/product-reviews/B001DZY4KI</td>\n",
       "      <td>1</td>\n",
       "      <td>$78.99</td>\n",
       "    </tr>\n",
       "    <tr>\n",
       "      <th>7</th>\n",
       "      <td>B001GQ3DJM</td>\n",
       "      <td>Nokia</td>\n",
       "      <td>Nokia 1680 Black Phone (T-Mobile)</td>\n",
       "      <td>https://www.amazon.com/Nokia-1680-Black-Phone-...</td>\n",
       "      <td>https://m.media-amazon.com/images/I/41X4VeqkFO...</td>\n",
       "      <td>2.7</td>\n",
       "      <td>https://www.amazon.com/product-reviews/B001GQ3DJM</td>\n",
       "      <td>3</td>\n",
       "      <td>NaN</td>\n",
       "    </tr>\n",
       "    <tr>\n",
       "      <th>8</th>\n",
       "      <td>B0027VKQPE</td>\n",
       "      <td>Nokia</td>\n",
       "      <td>Nokia New 1100 for Tracfone</td>\n",
       "      <td>https://www.amazon.com/New-Nokia-1100-for-Trac...</td>\n",
       "      <td>https://m.media-amazon.com/images/I/91IUe3nDP7...</td>\n",
       "      <td>3.2</td>\n",
       "      <td>https://www.amazon.com/product-reviews/B0027VKQPE</td>\n",
       "      <td>8</td>\n",
       "      <td>$99.99</td>\n",
       "    </tr>\n",
       "    <tr>\n",
       "      <th>9</th>\n",
       "      <td>B00280QJFU</td>\n",
       "      <td>Samsung</td>\n",
       "      <td>Samsung T301G Prepaid Phone (Tracfone)</td>\n",
       "      <td>https://www.amazon.com/Samsung-T301G-Prepaid-P...</td>\n",
       "      <td>https://m.media-amazon.com/images/I/71QX+Kiri4...</td>\n",
       "      <td>3.5</td>\n",
       "      <td>https://www.amazon.com/product-reviews/B00280QJFU</td>\n",
       "      <td>133</td>\n",
       "      <td>$59.89</td>\n",
       "    </tr>\n",
       "  </tbody>\n",
       "</table>\n",
       "</div>"
      ],
      "text/plain": [
       "         asin     brand                                              title  \\\n",
       "0  B0000SX2UC     Nokia  Dual-Band / Tri-Mode Sprint PCS Phone w/ Voice...   \n",
       "1  B0009N5L7K  Motorola                                Motorola I265 phone   \n",
       "2  B000SKTZ0S  Motorola  MOTOROLA C168i AT&T CINGULAR PREPAID GOPHONE C...   \n",
       "3  B00198M12M     Nokia  Nokia 6500 Slide Black/silver Unlocked Cell Phone   \n",
       "4  B001AO4OUC  Motorola              Motorola i335 Cell Phone Boost Mobile   \n",
       "5  B001DCJAJG  Motorola      Motorola V365 no contract cellular phone AT&T   \n",
       "6  B001DZY4KI      Sony  Sony Ericsson G700 Triband GSM Phone Bronze (U...   \n",
       "7  B001GQ3DJM     Nokia                  Nokia 1680 Black Phone (T-Mobile)   \n",
       "8  B0027VKQPE     Nokia                        Nokia New 1100 for Tracfone   \n",
       "9  B00280QJFU   Samsung             Samsung T301G Prepaid Phone (Tracfone)   \n",
       "\n",
       "                                                 url  \\\n",
       "0  https://www.amazon.com/Dual-Band-Tri-Mode-Acti...   \n",
       "1  https://www.amazon.com/Motorola-i265-I265-phon...   \n",
       "2  https://www.amazon.com/MOTOROLA-C168i-CINGULAR...   \n",
       "3  https://www.amazon.com/Nokia-6500-Slide-silver...   \n",
       "4  https://www.amazon.com/Motorola-i335-Phone-Boo...   \n",
       "5  https://www.amazon.com/Motorola-V365-contract-...   \n",
       "6  https://www.amazon.com/Sony-Ericsson-Triband-B...   \n",
       "7  https://www.amazon.com/Nokia-1680-Black-Phone-...   \n",
       "8  https://www.amazon.com/New-Nokia-1100-for-Trac...   \n",
       "9  https://www.amazon.com/Samsung-T301G-Prepaid-P...   \n",
       "\n",
       "                                               image  rating  \\\n",
       "0  https://m.media-amazon.com/images/I/2143EBQ210...     3.0   \n",
       "1  https://m.media-amazon.com/images/I/419WBAVDAR...     2.9   \n",
       "2  https://m.media-amazon.com/images/I/71b+q3ydkI...     2.6   \n",
       "3  https://m.media-amazon.com/images/I/41ss4HpLkL...     2.4   \n",
       "4  https://m.media-amazon.com/images/I/710UO8gdT+...     3.3   \n",
       "5  https://m.media-amazon.com/images/I/61LYNCVrrK...     3.2   \n",
       "6  https://m.media-amazon.com/images/I/51mL10Inzc...     2.0   \n",
       "7  https://m.media-amazon.com/images/I/41X4VeqkFO...     2.7   \n",
       "8  https://m.media-amazon.com/images/I/91IUe3nDP7...     3.2   \n",
       "9  https://m.media-amazon.com/images/I/71QX+Kiri4...     3.5   \n",
       "\n",
       "                                           reviewUrl  totalReviews  prices  \n",
       "0  https://www.amazon.com/product-reviews/B0000SX2UC            14     NaN  \n",
       "1  https://www.amazon.com/product-reviews/B0009N5L7K             7  $49.95  \n",
       "2  https://www.amazon.com/product-reviews/B000SKTZ0S            22     NaN  \n",
       "3  https://www.amazon.com/product-reviews/B00198M12M             5     NaN  \n",
       "4  https://www.amazon.com/product-reviews/B001AO4OUC            21     NaN  \n",
       "5  https://www.amazon.com/product-reviews/B001DCJAJG            12     NaN  \n",
       "6  https://www.amazon.com/product-reviews/B001DZY4KI             1  $78.99  \n",
       "7  https://www.amazon.com/product-reviews/B001GQ3DJM             3     NaN  \n",
       "8  https://www.amazon.com/product-reviews/B0027VKQPE             8  $99.99  \n",
       "9  https://www.amazon.com/product-reviews/B00280QJFU           133  $59.89  "
      ]
     },
     "execution_count": 3,
     "metadata": {},
     "output_type": "execute_result"
    }
   ],
   "source": [
    "items_data.head(10)"
   ]
  },
  {
   "cell_type": "code",
   "execution_count": 4,
   "metadata": {
    "collapsed": true,
    "jupyter": {
     "outputs_hidden": true
    }
   },
   "outputs": [
    {
     "data": {
      "text/html": [
       "<div>\n",
       "<style scoped>\n",
       "    .dataframe tbody tr th:only-of-type {\n",
       "        vertical-align: middle;\n",
       "    }\n",
       "\n",
       "    .dataframe tbody tr th {\n",
       "        vertical-align: top;\n",
       "    }\n",
       "\n",
       "    .dataframe thead th {\n",
       "        text-align: right;\n",
       "    }\n",
       "</style>\n",
       "<table border=\"1\" class=\"dataframe\">\n",
       "  <thead>\n",
       "    <tr style=\"text-align: right;\">\n",
       "      <th></th>\n",
       "      <th>asin</th>\n",
       "      <th>name</th>\n",
       "      <th>rating</th>\n",
       "      <th>date</th>\n",
       "      <th>verified</th>\n",
       "      <th>title</th>\n",
       "      <th>body</th>\n",
       "      <th>helpfulVotes</th>\n",
       "    </tr>\n",
       "  </thead>\n",
       "  <tbody>\n",
       "    <tr>\n",
       "      <th>0</th>\n",
       "      <td>B0000SX2UC</td>\n",
       "      <td>Janet</td>\n",
       "      <td>3</td>\n",
       "      <td>October 11, 2005</td>\n",
       "      <td>False</td>\n",
       "      <td>Def not best, but not worst</td>\n",
       "      <td>I had the Samsung A600 for awhile which is abs...</td>\n",
       "      <td>1.0</td>\n",
       "    </tr>\n",
       "    <tr>\n",
       "      <th>1</th>\n",
       "      <td>B0000SX2UC</td>\n",
       "      <td>Luke Wyatt</td>\n",
       "      <td>1</td>\n",
       "      <td>January 7, 2004</td>\n",
       "      <td>False</td>\n",
       "      <td>Text Messaging Doesn't Work</td>\n",
       "      <td>Due to a software issue between Nokia and Spri...</td>\n",
       "      <td>17.0</td>\n",
       "    </tr>\n",
       "    <tr>\n",
       "      <th>2</th>\n",
       "      <td>B0000SX2UC</td>\n",
       "      <td>Brooke</td>\n",
       "      <td>5</td>\n",
       "      <td>December 30, 2003</td>\n",
       "      <td>False</td>\n",
       "      <td>Love This Phone</td>\n",
       "      <td>This is a great, reliable phone. I also purcha...</td>\n",
       "      <td>5.0</td>\n",
       "    </tr>\n",
       "    <tr>\n",
       "      <th>3</th>\n",
       "      <td>B0000SX2UC</td>\n",
       "      <td>amy m. teague</td>\n",
       "      <td>3</td>\n",
       "      <td>March 18, 2004</td>\n",
       "      <td>False</td>\n",
       "      <td>Love the Phone, BUT...!</td>\n",
       "      <td>I love the phone and all, because I really did...</td>\n",
       "      <td>1.0</td>\n",
       "    </tr>\n",
       "    <tr>\n",
       "      <th>4</th>\n",
       "      <td>B0000SX2UC</td>\n",
       "      <td>tristazbimmer</td>\n",
       "      <td>4</td>\n",
       "      <td>August 28, 2005</td>\n",
       "      <td>False</td>\n",
       "      <td>Great phone service and options, lousy case!</td>\n",
       "      <td>The phone has been great for every purpose it ...</td>\n",
       "      <td>1.0</td>\n",
       "    </tr>\n",
       "    <tr>\n",
       "      <th>5</th>\n",
       "      <td>B0000SX2UC</td>\n",
       "      <td>J. White</td>\n",
       "      <td>4</td>\n",
       "      <td>September 25, 2005</td>\n",
       "      <td>False</td>\n",
       "      <td>Worked great for me</td>\n",
       "      <td>Hello, I have this phone and used it until I d...</td>\n",
       "      <td>NaN</td>\n",
       "    </tr>\n",
       "    <tr>\n",
       "      <th>6</th>\n",
       "      <td>B0000SX2UC</td>\n",
       "      <td>the cell phone store owner</td>\n",
       "      <td>5</td>\n",
       "      <td>April 16, 2004</td>\n",
       "      <td>False</td>\n",
       "      <td>Wanna cool Nokia? You have it here!</td>\n",
       "      <td>Cool. Cheap. Color: 3 words that describe the ...</td>\n",
       "      <td>2.0</td>\n",
       "    </tr>\n",
       "    <tr>\n",
       "      <th>7</th>\n",
       "      <td>B0000SX2UC</td>\n",
       "      <td>Matt</td>\n",
       "      <td>4</td>\n",
       "      <td>April 3, 2004</td>\n",
       "      <td>False</td>\n",
       "      <td>Problem with 3588i universal headset</td>\n",
       "      <td>The 3599i is overall a nice phone, except that...</td>\n",
       "      <td>2.0</td>\n",
       "    </tr>\n",
       "    <tr>\n",
       "      <th>8</th>\n",
       "      <td>B0000SX2UC</td>\n",
       "      <td>Charles Cook</td>\n",
       "      <td>5</td>\n",
       "      <td>November 24, 2003</td>\n",
       "      <td>False</td>\n",
       "      <td>cool phone!!!!!!!!</td>\n",
       "      <td>I've never owned a Nokia phone before, so this...</td>\n",
       "      <td>7.0</td>\n",
       "    </tr>\n",
       "    <tr>\n",
       "      <th>9</th>\n",
       "      <td>B0000SX2UC</td>\n",
       "      <td>Amazon Customer</td>\n",
       "      <td>3</td>\n",
       "      <td>February 2, 2004</td>\n",
       "      <td>False</td>\n",
       "      <td>Pissed off-a little bit</td>\n",
       "      <td>ok well im in school and i need the text messa...</td>\n",
       "      <td>3.0</td>\n",
       "    </tr>\n",
       "  </tbody>\n",
       "</table>\n",
       "</div>"
      ],
      "text/plain": [
       "         asin                        name  rating                date  \\\n",
       "0  B0000SX2UC                       Janet       3    October 11, 2005   \n",
       "1  B0000SX2UC                  Luke Wyatt       1     January 7, 2004   \n",
       "2  B0000SX2UC                      Brooke       5   December 30, 2003   \n",
       "3  B0000SX2UC               amy m. teague       3      March 18, 2004   \n",
       "4  B0000SX2UC               tristazbimmer       4     August 28, 2005   \n",
       "5  B0000SX2UC                    J. White       4  September 25, 2005   \n",
       "6  B0000SX2UC  the cell phone store owner       5      April 16, 2004   \n",
       "7  B0000SX2UC                        Matt       4       April 3, 2004   \n",
       "8  B0000SX2UC                Charles Cook       5   November 24, 2003   \n",
       "9  B0000SX2UC             Amazon Customer       3    February 2, 2004   \n",
       "\n",
       "   verified                                         title  \\\n",
       "0     False                   Def not best, but not worst   \n",
       "1     False                   Text Messaging Doesn't Work   \n",
       "2     False                               Love This Phone   \n",
       "3     False                       Love the Phone, BUT...!   \n",
       "4     False  Great phone service and options, lousy case!   \n",
       "5     False                           Worked great for me   \n",
       "6     False           Wanna cool Nokia? You have it here!   \n",
       "7     False          Problem with 3588i universal headset   \n",
       "8     False                            cool phone!!!!!!!!   \n",
       "9     False                       Pissed off-a little bit   \n",
       "\n",
       "                                                body  helpfulVotes  \n",
       "0  I had the Samsung A600 for awhile which is abs...           1.0  \n",
       "1  Due to a software issue between Nokia and Spri...          17.0  \n",
       "2  This is a great, reliable phone. I also purcha...           5.0  \n",
       "3  I love the phone and all, because I really did...           1.0  \n",
       "4  The phone has been great for every purpose it ...           1.0  \n",
       "5  Hello, I have this phone and used it until I d...           NaN  \n",
       "6  Cool. Cheap. Color: 3 words that describe the ...           2.0  \n",
       "7  The 3599i is overall a nice phone, except that...           2.0  \n",
       "8  I've never owned a Nokia phone before, so this...           7.0  \n",
       "9  ok well im in school and i need the text messa...           3.0  "
      ]
     },
     "execution_count": 4,
     "metadata": {},
     "output_type": "execute_result"
    }
   ],
   "source": [
    "reviews_df.head(10)"
   ]
  },
  {
   "cell_type": "markdown",
   "metadata": {},
   "source": [
    "#### Plotting Ratings on x axis and Helpful Votes on Y axis for EDA"
   ]
  },
  {
   "cell_type": "code",
   "execution_count": 5,
   "metadata": {},
   "outputs": [
    {
     "data": {
      "text/plain": [
       "<matplotlib.axes._subplots.AxesSubplot at 0x1ffef699fd0>"
      ]
     },
     "execution_count": 5,
     "metadata": {},
     "output_type": "execute_result"
    },
    {
     "data": {
      "image/png": "[encoded data removed]",
      "text/plain": [
       "<Figure size 576x360 with 1 Axes>"
      ]
     },
     "metadata": {},
     "output_type": "display_data"
    }
   ],
   "source": [
    "plt.style.use(\"ggplot\")\n",
    "reviews_df.groupby('rating')['helpfulVotes'].sum().plot(kind='bar',figsize=(8, 5),\n",
    "                                                 title=\"Helpfulness Range\")"
   ]
  },
  {
   "cell_type": "markdown",
   "metadata": {},
   "source": [
    "#### Plotting Ratings on x axis and Total Reviews on Y axis for EDA"
   ]
  },
  {
   "cell_type": "code",
   "execution_count": 6,
   "metadata": {},
   "outputs": [
    {
     "data": {
      "text/plain": [
       "<matplotlib.axes._subplots.AxesSubplot at 0x1fff62686a0>"
      ]
     },
     "execution_count": 6,
     "metadata": {},
     "output_type": "execute_result"
    },
    {
     "data": {
      "image/png": "[encoded data removed]",
      "text/plain": [
       "<Figure size 576x360 with 1 Axes>"
      ]
     },
     "metadata": {},
     "output_type": "display_data"
    }
   ],
   "source": [
    "plt.style.use(\"ggplot\")\n",
    "items_data.groupby('rating')['totalReviews'].sum().plot(kind='bar',figsize=(8, 5),\n",
    "                                                 title=\"Total Reviews\")"
   ]
  },
  {
   "cell_type": "markdown",
   "metadata": {},
   "source": [
    "#### Checking for verified and non verified reviews"
   ]
  },
  {
   "cell_type": "code",
   "execution_count": 7,
   "metadata": {},
   "outputs": [
    {
     "data": {
      "image/png": "[encoded data removed]",
      "text/plain": [
       "<Figure size 720x360 with 2 Axes>"
      ]
     },
     "metadata": {},
     "output_type": "display_data"
    }
   ],
   "source": [
    "sns.catplot(x=\"rating\",col=\"verified\",data=reviews_df,kind=\"count\");"
   ]
  },
  {
   "cell_type": "code",
   "execution_count": 9,
   "metadata": {},
   "outputs": [
    {
     "data": {
      "image/png": "[encoded data removed]",
      "text/plain": [
       "<Figure size 576x360 with 1 Axes>"
      ]
     },
     "metadata": {},
     "output_type": "display_data"
    }
   ],
   "source": [
    "plt.style.use(\"ggplot\")\n",
    "# Brand distribution\n",
    "ax = items_data.groupby(\"brand\").count()[\"asin\"].plot(kind=\"pie\", \n",
    "                                                 figsize=(8, 5),\n",
    "                                                 title=\"Number of Offerings grouped by Brand\")\n",
    "plt.show()"
   ]
  },
  {
   "cell_type": "markdown",
   "metadata": {},
   "source": [
    "#### Average rating per brand"
   ]
  },
  {
   "cell_type": "code",
   "execution_count": 10,
   "metadata": {},
   "outputs": [
    {
     "data": {
      "image/png": "[encoded data removed]",
      "text/plain": [
       "<Figure size 576x360 with 1 Axes>"
      ]
     },
     "metadata": {},
     "output_type": "display_data"
    }
   ],
   "source": [
    "ax = items_data.groupby(\"brand\").mean()[\"rating\"].sort_values().plot(kind=\"barh\",\n",
    "                                                                figsize=(8,5), \n",
    "                                                                title=\"Average rating per Brand\")\n",
    "plt.show()"
   ]
  },
  {
   "cell_type": "markdown",
   "metadata": {},
   "source": [
    "## LEARNING RATING FROM REVIEW'S TEXT\n",
    "#### Accuracy of LogisticRegression >> LinearSVM >> Multinomial NB\n",
    "##### Dropping helpfulVotes column from reviews_df as we are not going to use that column from this stage\n",
    "##### Removing null values for the sake of vectorization and text processing in further analysis\n"
   ]
  },
  {
   "cell_type": "code",
   "execution_count": 11,
   "metadata": {},
   "outputs": [
    {
     "name": "stdout",
     "output_type": "stream",
     "text": [
      "<class 'pandas.core.frame.DataFrame'>\n",
      "Int64Index: 82780 entries, 0 to 82814\n",
      "Data columns (total 7 columns):\n",
      "asin        82780 non-null object\n",
      "name        82780 non-null object\n",
      "rating      82780 non-null int64\n",
      "date        82780 non-null object\n",
      "verified    82780 non-null bool\n",
      "title       82780 non-null object\n",
      "body        82780 non-null object\n",
      "dtypes: bool(1), int64(1), object(5)\n",
      "memory usage: 4.5+ MB\n"
     ]
    }
   ],
   "source": [
    "reviews_df = reviews_df.drop(columns = ['helpfulVotes'])\n",
    "reviews_df = reviews_df.dropna() # for vectorization\n",
    "reviews_df.info()"
   ]
  },
  {
   "cell_type": "markdown",
   "metadata": {},
   "source": [
    "##### Seperating ratings and review texts from the dataframe and loading them into lists"
   ]
  },
  {
   "cell_type": "code",
   "execution_count": 12,
   "metadata": {},
   "outputs": [],
   "source": [
    "texts = reviews_df['body'].tolist()\n",
    "stars = reviews_df['rating'].tolist()"
   ]
  },
  {
   "cell_type": "code",
   "execution_count": 13,
   "metadata": {},
   "outputs": [],
   "source": [
    "def balance_classes(xs, ys):\n",
    "    freqs = Counter(ys)\n",
    "    max_allowable = freqs.most_common()[-1][1]\n",
    "    num_added = {clss: 0 for clss in freqs.keys()}\n",
    "    new_ys = []\n",
    "    new_xs = []\n",
    "    for i, y in enumerate(ys):\n",
    "        if num_added[y] < max_allowable:\n",
    "            new_ys.append(y)\n",
    "            new_xs.append(xs[i])\n",
    "            num_added[y] += 1\n",
    "    return new_xs, new_ys"
   ]
  },
  {
   "cell_type": "markdown",
   "metadata": {},
   "source": [
    "###### Source : https://github.com/Shivananda199/Fake-Product-Review-Monitoring-and-Product-Evaluation-using-Opinion-Mining/blob/master/ita_project/admin/test.py"
   ]
  },
  {
   "cell_type": "code",
   "execution_count": 14,
   "metadata": {},
   "outputs": [
    {
     "name": "stdout",
     "output_type": "stream",
     "text": [
      "Counter({5: 44991, 1: 16422, 4: 10708, 3: 5754, 2: 4905})\n",
      "Counter({3: 4905, 1: 4905, 5: 4905, 4: 4905, 2: 4905})\n"
     ]
    }
   ],
   "source": [
    "print(Counter(stars))\n",
    "balanced_x, balanced_y = balance_classes(texts, stars)\n",
    "print(Counter(balanced_y))\n"
   ]
  },
  {
   "cell_type": "markdown",
   "metadata": {},
   "source": [
    "#### This vectorizer breaks text into single words and bi-grams\n",
    "#### and then calculates the TF-IDF representation\n",
    "\n",
    "##### To extract features from each text, we need to convet the original text into a document-term matrix (https://en.wikipedia.org/wiki/Document-term_matrix), where the feature names are words and values are the scaled frequency of the words in each document.\n",
    "\n",
    "##### Why \"scaled frequency\"? If we simply count the occurence of each word in each document, the highly frequent words start to dominate yet those words may not contain that much \"informational\" content (e.g. \"the\"). Therefore we use TF-IDF model to rescale the word frequency.\n",
    "\n",
    "##### Term frequency: the frequency of a certain word in a document\n",
    "##### Inverse document frequency: the scoring of how rare a certain word in all documents"
   ]
  },
  {
   "cell_type": "code",
   "execution_count": 15,
   "metadata": {},
   "outputs": [],
   "source": [
    "vectorizer = TfidfVectorizer(ngram_range=(1,2))\n",
    "t1 = datetime.datetime.now()"
   ]
  },
  {
   "cell_type": "markdown",
   "metadata": {},
   "source": [
    "#### the 'fit' builds up the vocabulary from all the reviews\n",
    "#### while the 'transform' step turns each indivdual text into\n",
    "#### a matrix of numbers."
   ]
  },
  {
   "cell_type": "code",
   "execution_count": 16,
   "metadata": {},
   "outputs": [
    {
     "name": "stdout",
     "output_type": "stream",
     "text": [
      "0:00:13.550531\n"
     ]
    }
   ],
   "source": [
    "vectors = vectorizer.fit_transform(balanced_x)\n",
    "print(datetime.datetime.now() - t1)"
   ]
  },
  {
   "cell_type": "markdown",
   "metadata": {},
   "source": [
    "#### Training and Testing the Data "
   ]
  },
  {
   "cell_type": "code",
   "execution_count": 17,
   "metadata": {},
   "outputs": [],
   "source": [
    "X_train, X_test, y_train, y_test = train_test_split(vectors, balanced_y, test_size=0.33, random_state=42)"
   ]
  },
  {
   "cell_type": "markdown",
   "metadata": {},
   "source": [
    "# SVM classifier \n",
    "\n",
    "###### Support vector machine (SVM) is a learning technique that performs well on sentiment classification. The performance of SVM depends on the used kernel function. Hence, if the suitable kernel is chosen, the efficiency of classification should be improved. There are many approaches to define a new kernel function. Non-negative linear combination of multiple kernels is an alternative, and the performance of sentiment classification can be enhanced when the suitable kernels are combined. In this paper, we analyze and compare various non-negative linear combination kernels. These kernels are applied on product reviews to determine whether a review is positive or negative. The results show that the performance of the combination kernels that outperforms the single kernels."
   ]
  },
  {
   "cell_type": "code",
   "execution_count": 18,
   "metadata": {},
   "outputs": [],
   "source": [
    "classifier = LinearSVC()"
   ]
  },
  {
   "cell_type": "markdown",
   "metadata": {},
   "source": [
    "#### Training the classifier"
   ]
  },
  {
   "cell_type": "code",
   "execution_count": 19,
   "metadata": {},
   "outputs": [
    {
     "name": "stdout",
     "output_type": "stream",
     "text": [
      "0:00:03.902737\n"
     ]
    }
   ],
   "source": [
    "t1 = datetime.datetime.now()\n",
    "classifier.fit(X_train, y_train)\n",
    "print(datetime.datetime.now() - t1)"
   ]
  },
  {
   "cell_type": "markdown",
   "metadata": {},
   "source": [
    "#### Printing the predicted rating and Actual Ratingsof top 10 rows predicted ratings generated by the model and actual ratings"
   ]
  },
  {
   "cell_type": "code",
   "execution_count": 20,
   "metadata": {},
   "outputs": [
    {
     "name": "stdout",
     "output_type": "stream",
     "text": [
      "Predicted Ratings:  [1, 5, 4, 4, 3, 4, 4, 5, 3, 2]\n",
      "Actual Ratings:  [2, 2, 4, 4, 3, 5, 4, 4, 3, 3]\n"
     ]
    }
   ],
   "source": [
    "preds = classifier.predict(X_test)\n",
    "print(\"Predicted Ratings: \",list(preds[:10]))\n",
    "print(\"Actual Ratings: \",y_test[:10])"
   ]
  },
  {
   "cell_type": "markdown",
   "metadata": {},
   "source": [
    "#### Printing classification report to find the accuracy. Classification report showing the accuracy, precision, recalland f1-score"
   ]
  },
  {
   "cell_type": "code",
   "execution_count": 21,
   "metadata": {},
   "outputs": [
    {
     "name": "stdout",
     "output_type": "stream",
     "text": [
      "              precision    recall  f1-score   support\n",
      "\n",
      "           1       0.58      0.66      0.61      1657\n",
      "           2       0.43      0.43      0.43      1625\n",
      "           3       0.43      0.37      0.40      1629\n",
      "           4       0.49      0.43      0.46      1601\n",
      "           5       0.65      0.73      0.69      1582\n",
      "\n",
      "    accuracy                           0.52      8094\n",
      "   macro avg       0.51      0.52      0.52      8094\n",
      "weighted avg       0.51      0.52      0.52      8094\n",
      "\n"
     ]
    }
   ],
   "source": [
    "print(classification_report(y_test, preds))"
   ]
  },
  {
   "cell_type": "markdown",
   "metadata": {},
   "source": [
    "##### Here we can see the accuracy of the LinearSVM model as 52%(0.52)from the above output"
   ]
  },
  {
   "cell_type": "markdown",
   "metadata": {},
   "source": [
    "# Logistic Regression :\n",
    "###### Logistic Regression to be very effective on text data and the underlying algorithm is also fairly easy to understand. More importantly, in the NLP world, it's generally accepted that Logistic Regression is a great starter algorithm for text related classification\n"
   ]
  },
  {
   "cell_type": "code",
   "execution_count": 22,
   "metadata": {},
   "outputs": [
    {
     "name": "stderr",
     "output_type": "stream",
     "text": [
      "C:\\ProgramData\\Anaconda3\\lib\\site-packages\\sklearn\\linear_model\\logistic.py:432: FutureWarning: Default solver will be changed to 'lbfgs' in 0.22. Specify a solver to silence this warning.\n",
      "  FutureWarning)\n",
      "C:\\ProgramData\\Anaconda3\\lib\\site-packages\\sklearn\\linear_model\\logistic.py:469: FutureWarning: Default multi_class will be changed to 'auto' in 0.22. Specify the multi_class option to silence this warning.\n",
      "  \"this warning.\", FutureWarning)\n"
     ]
    },
    {
     "name": "stdout",
     "output_type": "stream",
     "text": [
      "0:00:08.648837\n"
     ]
    }
   ],
   "source": [
    "from sklearn.linear_model import LogisticRegression\n",
    "classifier_2 = LogisticRegression()\n",
    "t1 = datetime.datetime.now()\n",
    "classifier_2.fit(X_train, y_train)\n",
    "print(datetime.datetime.now() - t1)"
   ]
  },
  {
   "cell_type": "code",
   "execution_count": 19,
   "metadata": {},
   "outputs": [
    {
     "name": "stdout",
     "output_type": "stream",
     "text": [
      "Predicted Ratings for LogisticRegression:  [1, 5, 4, 4, 4, 5, 5, 1, 3, 3]\n",
      "Actual Ratings:  [2, 2, 4, 4, 3, 5, 4, 4, 3, 3]\n"
     ]
    }
   ],
   "source": [
    "preds_2 = classifier_2.predict(X_test)\n",
    "print(\"Predicted Ratings for LogisticRegression: \",list(preds_2[:10]))\n",
    "print(\"Actual Ratings: \",y_test[:10])"
   ]
  },
  {
   "cell_type": "code",
   "execution_count": 20,
   "metadata": {},
   "outputs": [
    {
     "name": "stdout",
     "output_type": "stream",
     "text": [
      "              precision    recall  f1-score   support\n",
      "\n",
      "           1       0.57      0.70      0.63      1657\n",
      "           2       0.45      0.43      0.44      1625\n",
      "           3       0.45      0.38      0.42      1629\n",
      "           4       0.53      0.43      0.48      1601\n",
      "           5       0.65      0.75      0.70      1582\n",
      "\n",
      "    accuracy                           0.54      8094\n",
      "   macro avg       0.53      0.54      0.53      8094\n",
      "weighted avg       0.53      0.54      0.53      8094\n",
      "\n"
     ]
    }
   ],
   "source": [
    "print(classification_report(y_test, preds_2))"
   ]
  },
  {
   "cell_type": "markdown",
   "metadata": {},
   "source": [
    "##### Here we can see the accuracy of the LogisticRegression model as 54%(0.54)from the above output"
   ]
  },
  {
   "cell_type": "markdown",
   "metadata": {},
   "source": [
    "# MultinomialNB : \n",
    "\n",
    "###### We achieved significantresults in  text  categorization performance with  the  help  of  MNB  Model. Basically,  we  improved  the  classification  principles to improve the NB performance with standardize categorization  and  management  the  dependence  of  word  occurrence. This change improved the performance of data sets,   as   experimental   results   reveal   according   as   per   numerical background of the datasets.  MNB algorithm is a fast, easy-to-implement, almost modern text categorizationalgorithm.  Proposed method  and  algorithm  offers  many possibilities  for  text  categorizations.  There  are  also  some  changes  that  can  be  made  to  our  classifier  for  greater  accuracy.  It  would  be  carried  out  in  future  and  would  involve use of artificial intelligence to improve the accuracy up to the best extent\n",
    "\n",
    "###### Source: chrome-extension://gphandlahdpffmccakmbngmbjnjiiahp/https://www.researchgate.net/profile/Anees-Ahmed-5/publication/334451164_Multinomial_Naive_Bayes_Classification_Model_for_Sentiment_Analysis/links/5e227e8d92851cafc38c813c/Multinomial-Naive-Bayes-Classification-Model-for-Sentiment-Analysis.pdf"
   ]
  },
  {
   "cell_type": "code",
   "execution_count": 21,
   "metadata": {},
   "outputs": [
    {
     "name": "stdout",
     "output_type": "stream",
     "text": [
      "0:00:00.083898\n"
     ]
    }
   ],
   "source": [
    "from sklearn.naive_bayes import MultinomialNB\n",
    "classifier_3 = MultinomialNB()\n",
    "t1 = datetime.datetime.now()\n",
    "classifier_3.fit(X_train, y_train)\n",
    "print(datetime.datetime.now() - t1)"
   ]
  },
  {
   "cell_type": "code",
   "execution_count": 22,
   "metadata": {},
   "outputs": [
    {
     "name": "stdout",
     "output_type": "stream",
     "text": [
      "Predicted Ratings for MultinomialNB:  [1, 5, 4, 4, 4, 5, 5, 2, 3, 2]\n",
      "Actual Ratings:  [2, 2, 4, 4, 3, 5, 4, 4, 3, 3]\n"
     ]
    }
   ],
   "source": [
    "preds_3 = classifier_3.predict(X_test)\n",
    "print(\"Predicted Ratings for MultinomialNB: \",list(preds_3[:10]))\n",
    "print(\"Actual Ratings: \",y_test[:10])"
   ]
  },
  {
   "cell_type": "code",
   "execution_count": 23,
   "metadata": {},
   "outputs": [
    {
     "name": "stdout",
     "output_type": "stream",
     "text": [
      "              precision    recall  f1-score   support\n",
      "\n",
      "           1       0.68      0.47      0.55      1657\n",
      "           2       0.36      0.72      0.48      1625\n",
      "           3       0.46      0.29      0.36      1629\n",
      "           4       0.55      0.35      0.43      1601\n",
      "           5       0.67      0.73      0.70      1582\n",
      "\n",
      "    accuracy                           0.51      8094\n",
      "   macro avg       0.55      0.51      0.50      8094\n",
      "weighted avg       0.55      0.51      0.50      8094\n",
      "\n"
     ]
    }
   ],
   "source": [
    "print(classification_report(y_test, preds_3))"
   ]
  },
  {
   "cell_type": "markdown",
   "metadata": {},
   "source": [
    "##### Here we can see the accuracy of the MultinomialNB model as 51%(0.51)from the above output"
   ]
  },
  {
   "cell_type": "markdown",
   "metadata": {},
   "source": [
    "## Remodelling the problem as classification problem \n",
    "##### Here we classify the reviews into positive[5*,4*] and negative[2*,1*] reviews.\n",
    "###### Note: We have excluded 3* ratings for this classification problem to avoid confusion."
   ]
  },
  {
   "cell_type": "code",
   "execution_count": 24,
   "metadata": {},
   "outputs": [],
   "source": [
    "keep = set([1,2,4,5])\n",
    "\n",
    "# calculating the indices for the examples we want to keep\n",
    "keep_train_is = [i for i, y in enumerate(y_train) if y in keep]\n",
    "keep_test_is = [i for i, y in enumerate(y_test) if y in keep]\n",
    "\n",
    "# converting the train set\n",
    "X_train2 = X_train[keep_train_is, :]\n",
    "y_train2 = [y_train[i] for i in keep_train_is]\n",
    "y_train2 = [\"n\" if (y == 1 or y == 2) else \"p\" for y in y_train2]\n",
    "\n",
    "# converting the test set\n",
    "X_test2 = X_test[keep_test_is, :]\n",
    "y_test2 = [y_test[i] for i in keep_test_is]\n",
    "y_test2 = [\"n\" if (y == 1 or y == 2) else \"p\" for y in y_test2]"
   ]
  },
  {
   "cell_type": "markdown",
   "metadata": {},
   "source": [
    "##### Accuracy for the remodelled problem"
   ]
  },
  {
   "cell_type": "code",
   "execution_count": 25,
   "metadata": {},
   "outputs": [
    {
     "name": "stdout",
     "output_type": "stream",
     "text": [
      "              precision    recall  f1-score   support\n",
      "\n",
      "           n       0.89      0.93      0.91      3282\n",
      "           p       0.92      0.88      0.90      3183\n",
      "\n",
      "    accuracy                           0.90      6465\n",
      "   macro avg       0.90      0.90      0.90      6465\n",
      "weighted avg       0.90      0.90      0.90      6465\n",
      "\n",
      "[[3042  240]\n",
      " [ 393 2790]]\n"
     ]
    }
   ],
   "source": [
    "classifier.fit(X_train2, y_train2)\n",
    "preds = classifier.predict(X_test2)\n",
    "print(classification_report(y_test2, preds))\n",
    "print(confusion_matrix(y_test2, preds))"
   ]
  },
  {
   "cell_type": "markdown",
   "metadata": {},
   "source": [
    "##### By doing this, the accuracy increased to 90%"
   ]
  },
  {
   "cell_type": "markdown",
   "metadata": {},
   "source": [
    "# Topic Modelling "
   ]
  },
  {
   "cell_type": "markdown",
   "metadata": {},
   "source": [
    "##### Define word frequency function"
   ]
  },
  {
   "cell_type": "code",
   "execution_count": 26,
   "metadata": {},
   "outputs": [],
   "source": [
    "def word_freq_dict(text):\n",
    "    wordList = text.split()\n",
    "    wordFreqDict = {word: wordList.count(word) for word in wordList}\n",
    "    return wordFreqDict\n"
   ]
  },
  {
   "cell_type": "markdown",
   "metadata": {},
   "source": [
    "##### Source: https://www.kaggle.com/yaowenling/amazon-cell-phone-review-nlp"
   ]
  },
  {
   "cell_type": "markdown",
   "metadata": {},
   "source": [
    "##### Create brand subsets \n",
    "##### Seperating reviews based on brand"
   ]
  },
  {
   "cell_type": "code",
   "execution_count": 27,
   "metadata": {},
   "outputs": [],
   "source": [
    "reviews = pd.merge(reviews_df, items_data, how=\"left\", left_on=\"asin\", right_on=\"asin\")\n",
    "reviews.rename(columns={\"rating_x\": \"rating\", \"title_x\": \"title\", \"title_y\": \"item_title\", \"rating_y\": \"overall_rating\"}, inplace=True)\n",
    "reviews[\"positivity\"] = reviews[\"rating\"].apply(lambda x: 1 if x>3 else(0 if x==3 else -1))\n",
    "reviews.head()\n",
    "\n",
    "\n",
    "apple = reviews[reviews[\"brand\"]==\"Apple\"].sort_values(by=[\"date\"], ascending=False)\n",
    "samsung = reviews[reviews[\"brand\"]==\"Samsung\"].sort_values(by=[\"date\"], ascending=False)\n",
    "xiaomi = reviews[reviews[\"brand\"]==\"Xiaomi\"].sort_values(by=[\"date\"], ascending=False)"
   ]
  },
  {
   "cell_type": "markdown",
   "metadata": {},
   "source": [
    "##### Initialize TF-IDF vectorizer\n",
    "##### Initalize LDA model"
   ]
  },
  {
   "cell_type": "code",
   "execution_count": 28,
   "metadata": {},
   "outputs": [],
   "source": [
    "tfidf_vectorizer = TfidfVectorizer(max_df=0.9, min_df=0.05, stop_words=\"english\")\n",
    "n_topics=10\n",
    "lda = LatentDirichletAllocation(n_components=n_topics, \n",
    "                                max_iter=50, \n",
    "                                learning_method='online',\n",
    "                                learning_offset=50.,\n",
    "                                random_state=0)"
   ]
  },
  {
   "cell_type": "markdown",
   "metadata": {},
   "source": [
    "##### Define a function to print LDA topics"
   ]
  },
  {
   "cell_type": "code",
   "execution_count": 29,
   "metadata": {},
   "outputs": [],
   "source": [
    "def print_topn_words(model, feature_names, topn):\n",
    "    for topic_idx, topic in enumerate(model.components_):\n",
    "        message = \"Topic #%d: \" % topic_idx\n",
    "        message += \" \".join([feature_names[i]\n",
    "                             for i in topic.argsort()[:-topn - 1:-1]])\n",
    "        print(message)\n",
    "    print()"
   ]
  },
  {
   "cell_type": "markdown",
   "metadata": {},
   "source": [
    "##### Run LDA model for Apple"
   ]
  },
  {
   "cell_type": "code",
   "execution_count": 30,
   "metadata": {},
   "outputs": [
    {
     "name": "stdout",
     "output_type": "stream",
     "text": [
      "Below is the output from LDA model with 10 topics (each includes Top10 words) for Apple.\n",
      "Topic #0: phone came got charger scratches iphone just time apple new\n",
      "Topic #1: love working time phone new far iphone bought scratches great\n",
      "Topic #2: good use bought phone iphone far time scratches price just\n",
      "Topic #3: work product buy phone iphone time new great bought good\n",
      "Topic #4: new brand looks price phone like works great good came\n",
      "Topic #5: great works far phone scratches new good came iphone time\n",
      "Topic #6: screen just phone iphone scratches got new came buy time\n",
      "Topic #7: condition perfect came works phone scratches new great iphone good\n",
      "Topic #8: like apple refurbished phone new iphone scratches buy time got\n",
      "Topic #9: battery iphone life phone new good screen great scratches like\n",
      "\n",
      "Done in 43.512s.\n"
     ]
    }
   ],
   "source": [
    "t0 = time.time()\n",
    "apple_tfidf = tfidf_vectorizer.fit_transform(apple[\"body\"])\n",
    "apple_tfidf_feature_names = tfidf_vectorizer.get_feature_names()\n",
    "lda.fit(apple_tfidf)\n",
    "print(\"Below is the output from LDA model with {} topics (each includes Top10 words) for Apple.\".format(n_topics))\n",
    "print_topn_words(lda, apple_tfidf_feature_names, 10)\n",
    "print(\"Done in %0.3fs.\" % (time.time() - t0))"
   ]
  },
  {
   "cell_type": "markdown",
   "metadata": {},
   "source": [
    "##### Run LDA model for Samsung"
   ]
  },
  {
   "cell_type": "code",
   "execution_count": 31,
   "metadata": {},
   "outputs": [
    {
     "name": "stdout",
     "output_type": "stream",
     "text": [
      "Below is the output from LDA model with 10 topics (each includes Top10 words) for Samsung.\n",
      "Topic #0: good unlocked condition phone just came great far new price\n",
      "Topic #1: works great don phone new just like came condition good\n",
      "Topic #2: love battery phone life camera great just use new good\n",
      "Topic #3: use phone buy samsung used did bought don just like\n",
      "Topic #4: phone great price far just new good camera use condition\n",
      "Topic #5: work got does phone just did don new use great\n",
      "Topic #6: note phones phone galaxy samsung new screen just battery like\n",
      "Topic #7: screen phone fast really just like battery great good use\n",
      "Topic #8: product time came bought phone new just great samsung good\n",
      "Topic #9: new like sim card phone just came did great far\n",
      "\n",
      "Done in 162.357s.\n"
     ]
    }
   ],
   "source": [
    "t0 = time.time()\n",
    "samsung_tfidf = tfidf_vectorizer.fit_transform(samsung[\"body\"])\n",
    "samsung_tfidf_feature_names = tfidf_vectorizer.get_feature_names()\n",
    "lda.fit(samsung_tfidf)\n",
    "print(\"Below is the output from LDA model with {} topics (each includes Top10 words) for Samsung.\".format(n_topics))\n",
    "print_topn_words(lda, samsung_tfidf_feature_names, 10)\n",
    "print(\"Done in %0.3fs.\" % (time.time() - t0))"
   ]
  },
  {
   "cell_type": "markdown",
   "metadata": {},
   "source": [
    "##### Run LDA model for Xiaomi"
   ]
  },
  {
   "cell_type": "code",
   "execution_count": 34,
   "metadata": {},
   "outputs": [
    {
     "name": "stdout",
     "output_type": "stream",
     "text": [
      "Below is the output from LDA model with 10 topics (each includes Top10 words) for Xiaomi.\n",
      "Topic #0: excelente la el android muy ve xiaomi mobile screen amazing\n",
      "Topic #1: good battery phone price life amazing great screen camera fast\n",
      "Topic #2: muy el xiaomi ve android la excelente mobile love phone\n",
      "Topic #3: nice phone really works good price great doesn camera like\n",
      "Topic #4: better quality phone price works camera work good android xiaomi\n",
      "Topic #5: phone best phones android ve apps screen camera battery like\n",
      "Topic #6: far like just phone good price great screen bought fast\n",
      "Topic #7: phone great money xiaomi time work use buy mobile bought\n",
      "Topic #8: don like camera really doesn screen use battery phone time\n",
      "Topic #9: love excellent phone camera fast great price buy screen quality\n",
      "\n",
      "Done in 13.031s.\n"
     ]
    }
   ],
   "source": [
    "t0 = time.time()\n",
    "xiaomi_tfidf = tfidf_vectorizer.fit_transform(xiaomi[\"body\"])\n",
    "xiaomi_tfidf_feature_names = tfidf_vectorizer.get_feature_names()\n",
    "lda.fit(xiaomi_tfidf)\n",
    "print(\"Below is the output from LDA model with {} topics (each includes Top10 words) for Xiaomi.\".format(n_topics))\n",
    "print_topn_words(lda, xiaomi_tfidf_feature_names, 10)\n",
    "print(\"Done in %0.3fs.\" % (time.time() - t0))"
   ]
  },
  {
   "cell_type": "markdown",
   "metadata": {},
   "source": [
    "##### Plot feature importance using XGBoost"
   ]
  },
  {
   "cell_type": "code",
   "execution_count": 36,
   "metadata": {},
   "outputs": [
    {
     "name": "stderr",
     "output_type": "stream",
     "text": [
      "C:\\ProgramData\\Anaconda3\\lib\\site-packages\\xgboost\\sklearn.py:888: UserWarning: The use of label encoder in XGBClassifier is deprecated and will be removed in a future release. To remove this warning, do the following: 1) Pass option use_label_encoder=False when constructing XGBClassifier object; and 2) Encode your labels (y) as integers starting with 0, i.e. 0, 1, 2, ..., [num_class - 1].\n",
      "  warnings.warn(label_encoder_deprecation_msg, UserWarning)\n"
     ]
    },
    {
     "name": "stdout",
     "output_type": "stream",
     "text": [
      "[15:01:05] WARNING: C:/Users/Administrator/workspace/xgboost-win64_release_1.3.0/src/learner.cc:1061: Starting in XGBoost 1.3.0, the default evaluation metric used with the objective 'multi:softprob' was changed from 'merror' to 'mlogloss'. Explicitly set eval_metric if you'd like to restore the old behavior.\n"
     ]
    },
    {
     "data": {
      "image/png": "[encoded data removed]",
      "text/plain": [
       "<Figure size 720x432 with 1 Axes>"
      ]
     },
     "metadata": {},
     "output_type": "display_data"
    }
   ],
   "source": [
    "import xgboost as xgb\n",
    "xgb_clf = xgb.XGBClassifier()\n",
    "xgb_clf.fit(apple_tfidf, apple[\"positivity\"])\n",
    "featureImport = pd.DataFrame(xgb_clf.feature_importances_, index=apple_tfidf_feature_names)\n",
    "featureImport.columns = [\"Importance\"]\n",
    "featureImport.sort_values([\"Importance\"], ascending=True).tail(20).plot(kind=\"barh\", figsize=(10, 6))\n",
    "plt.title(\"Feature Importance from all reviews for Apple\")\n",
    "plt.show()"
   ]
  },
  {
   "cell_type": "code",
   "execution_count": 35,
   "metadata": {},
   "outputs": [
    {
     "name": "stdout",
     "output_type": "stream",
     "text": [
      "Requirement already satisfied: xgboost in c:\\programdata\\anaconda3\\lib\\site-packages (1.3.3)\n",
      "Requirement already satisfied: numpy in c:\\programdata\\anaconda3\\lib\\site-packages (from xgboost) (1.16.4)\n",
      "Requirement already satisfied: scipy in c:\\programdata\\anaconda3\\lib\\site-packages (from xgboost) (1.2.1)\n"
     ]
    }
   ],
   "source": [
    "!pip install xgboost"
   ]
  },
  {
   "cell_type": "code",
   "execution_count": 37,
   "metadata": {},
   "outputs": [
    {
     "name": "stderr",
     "output_type": "stream",
     "text": [
      "C:\\ProgramData\\Anaconda3\\lib\\site-packages\\xgboost\\sklearn.py:888: UserWarning: The use of label encoder in XGBClassifier is deprecated and will be removed in a future release. To remove this warning, do the following: 1) Pass option use_label_encoder=False when constructing XGBClassifier object; and 2) Encode your labels (y) as integers starting with 0, i.e. 0, 1, 2, ..., [num_class - 1].\n",
      "  warnings.warn(label_encoder_deprecation_msg, UserWarning)\n"
     ]
    },
    {
     "name": "stdout",
     "output_type": "stream",
     "text": [
      "[15:01:07] WARNING: C:/Users/Administrator/workspace/xgboost-win64_release_1.3.0/src/learner.cc:1061: Starting in XGBoost 1.3.0, the default evaluation metric used with the objective 'multi:softprob' was changed from 'merror' to 'mlogloss'. Explicitly set eval_metric if you'd like to restore the old behavior.\n"
     ]
    },
    {
     "data": {
      "image/png": "[encoded data removed]",
      "text/plain": [
       "<Figure size 720x432 with 1 Axes>"
      ]
     },
     "metadata": {},
     "output_type": "display_data"
    }
   ],
   "source": [
    "import xgboost as xgb\n",
    "xgb_clf = xgb.XGBClassifier()\n",
    "xgb_clf.fit(xiaomi_tfidf, xiaomi[\"positivity\"])\n",
    "featureImport = pd.DataFrame(xgb_clf.feature_importances_, index=xiaomi_tfidf_feature_names)\n",
    "featureImport.columns = [\"Importance\"]\n",
    "featureImport.sort_values([\"Importance\"], ascending=True).tail(20).plot(kind=\"barh\", figsize=(10, 6))\n",
    "plt.title(\"Feature Importance from all reviews for Xiaomi\")\n",
    "plt.show()"
   ]
  },
  {
   "cell_type": "code",
   "execution_count": 38,
   "metadata": {},
   "outputs": [
    {
     "name": "stderr",
     "output_type": "stream",
     "text": [
      "C:\\ProgramData\\Anaconda3\\lib\\site-packages\\xgboost\\sklearn.py:888: UserWarning: The use of label encoder in XGBClassifier is deprecated and will be removed in a future release. To remove this warning, do the following: 1) Pass option use_label_encoder=False when constructing XGBClassifier object; and 2) Encode your labels (y) as integers starting with 0, i.e. 0, 1, 2, ..., [num_class - 1].\n",
      "  warnings.warn(label_encoder_deprecation_msg, UserWarning)\n"
     ]
    },
    {
     "name": "stdout",
     "output_type": "stream",
     "text": [
      "[15:01:09] WARNING: C:/Users/Administrator/workspace/xgboost-win64_release_1.3.0/src/learner.cc:1061: Starting in XGBoost 1.3.0, the default evaluation metric used with the objective 'multi:softprob' was changed from 'merror' to 'mlogloss'. Explicitly set eval_metric if you'd like to restore the old behavior.\n"
     ]
    },
    {
     "data": {
      "image/png": "[encoded data removed]",
      "text/plain": [
       "<Figure size 720x432 with 1 Axes>"
      ]
     },
     "metadata": {},
     "output_type": "display_data"
    }
   ],
   "source": [
    "import xgboost as xgb\n",
    "xgb_clf = xgb.XGBClassifier()\n",
    "xgb_clf.fit(samsung_tfidf, samsung[\"positivity\"])\n",
    "featureImport = pd.DataFrame(xgb_clf.feature_importances_, index=samsung_tfidf_feature_names)\n",
    "featureImport.columns = [\"Importance\"]\n",
    "featureImport.sort_values([\"Importance\"], ascending=True).tail(20).plot(kind=\"barh\", figsize=(10, 6))\n",
    "plt.title(\"Feature Importance from all reviews for Samsung\")\n",
    "plt.show()"
   ]
  },
  {
   "cell_type": "code",
   "execution_count": null,
   "metadata": {},
   "outputs": [],
   "source": []
  },
  {
   "cell_type": "code",
   "execution_count": null,
   "metadata": {},
   "outputs": [],
   "source": []
  }
 ],
 "metadata": {
  "kernelspec": {
   "display_name": "Python 3",
   "language": "python",
   "name": "python3"
  },
  "language_info": {
   "codemirror_mode": {
    "name": "ipython",
    "version": 3
   },
   "file_extension": ".py",
   "mimetype": "text/x-python",
   "name": "python",
   "nbconvert_exporter": "python",
   "pygments_lexer": "ipython3",
   "version": "3.7.3"
  }
 },
 "nbformat": 4,
 "nbformat_minor": 4
}
